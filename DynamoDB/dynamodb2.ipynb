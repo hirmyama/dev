{
 "cells": [
  {
   "cell_type": "code",
   "execution_count": null,
   "metadata": {},
   "outputs": [],
   "source": [
    "# 「リソース」クライアントを作成\n",
    "import boto3\n",
    "dynamodb = boto3.resource('dynamodb')"
   ]
  },
  {
   "cell_type": "code",
   "execution_count": null,
   "metadata": {},
   "outputs": [],
   "source": [
    "# テーブルの削除\n",
    "# files = dynamodb.Table('Files')\n",
    "# files.delete()"
   ]
  },
  {
   "cell_type": "code",
   "execution_count": null,
   "metadata": {},
   "outputs": [],
   "source": [
    "# 全項目の削除\n",
    "# files = dynamodb.Table('Files')\n",
    "# for item in files.scan()['Items']:\n",
    "#     files.delete_item(Key={'Folder': item['Folder'], 'File': item['File']})"
   ]
  },
  {
   "cell_type": "code",
   "execution_count": null,
   "metadata": {},
   "outputs": [],
   "source": [
    "# テーブルを作成\n",
    "dynamodb.create_table(\n",
    "    TableName='Files', # テーブル名\n",
    "    # 主キーの設定。HASHは「パーティションキー」を、RANGEは「ソートキー」を表す。\n",
    "    KeySchema=[{'AttributeName': 'Folder', 'KeyType': 'HASH'},\n",
    "              {'AttributeName': 'File', 'KeyType': 'RANGE'}], \n",
    "    # 主キーのデータ型の指定。「S」は String を表す。\n",
    "    AttributeDefinitions=[\n",
    "        {'AttributeName': 'Folder', 'AttributeType': 'S'},\n",
    "        {'AttributeName': 'File', 'AttributeType': 'S'},\n",
    "        {'AttributeName': 'Size', 'AttributeType': 'N'},\n",
    "        {'AttributeName': 'Type', 'AttributeType': 'S'}\n",
    "    ], \n",
    "     # スループットの指定。\n",
    "    ProvisionedThroughput={'ReadCapacityUnits': 10, 'WriteCapacityUnits': 10},\n",
    "    LocalSecondaryIndexes=[\n",
    "        # 「Size」（サイズ）でソートするためのLSI\n",
    "        {\n",
    "            'IndexName': 'FilesOrderBySize',\n",
    "            'KeySchema': [\n",
    "                {'AttributeName': 'Folder', 'KeyType': 'HASH'},\n",
    "                {'AttributeName': 'Size', 'KeyType': 'RANGE'},\n",
    "            ],\n",
    "            'Projection': {'ProjectionType': 'ALL'}\n",
    "        },        \n",
    "        # 「Type」でソートするためのLSI\n",
    "        {\n",
    "            'IndexName': 'FilesOrderByType',\n",
    "            'KeySchema': [\n",
    "                {'AttributeName': 'Folder', 'KeyType': 'HASH'},\n",
    "                {'AttributeName': 'Type', 'KeyType': 'RANGE'},\n",
    "            ],\n",
    "            'Projection': {'ProjectionType': 'ALL'}\n",
    "        },        \n",
    "    ],\n",
    "    GlobalSecondaryIndexes=[\n",
    "        # 「Type」（ファイル種別）でクエリを行うためのGSI\n",
    "        {\n",
    "            'IndexName': 'FileTypes',\n",
    "            'KeySchema': [\n",
    "                {'AttributeName': 'Type', 'KeyType': 'HASH'},\n",
    "                {'AttributeName': 'Size', 'KeyType': 'RANGE'},\n",
    "            ],\n",
    "            'Projection': {'ProjectionType': 'ALL'},\n",
    "            'ProvisionedThroughput': {'ReadCapacityUnits': 10, 'WriteCapacityUnits': 10},\n",
    "        },        \n",
    "    ]\n",
    ")"
   ]
  },
  {
   "cell_type": "code",
   "execution_count": null,
   "metadata": {},
   "outputs": [],
   "source": [
    "# テーブルの取得\n",
    "files = dynamodb.Table('Files')"
   ]
  },
  {
   "cell_type": "code",
   "execution_count": null,
   "metadata": {},
   "outputs": [],
   "source": [
    "# テーブルの状態を確認。\n",
    "# 特にセカンダリインデックスを伴うテーブル作成には時間がかかる\n",
    "# 作成中は'CREATING'、作成完了すると'ACTIVE'になる。\n",
    "files.table_status"
   ]
  },
  {
   "cell_type": "code",
   "execution_count": null,
   "metadata": {},
   "outputs": [],
   "source": [
    "# 作成されるまで待つ。\n",
    "files.wait_until_exists()\n",
    "print('ok')"
   ]
  },
  {
   "cell_type": "code",
   "execution_count": null,
   "metadata": {},
   "outputs": [],
   "source": [
    "# バッチで複数の項目を書き込み。\n",
    "# batch_writer()でバッチ用オブジェクトを作り、それに対してput_item()を（複数回）呼び出す。\n",
    "with files.batch_writer() as batch:\n",
    "    batch.put_item(Item={'Folder': '/home/taro/', 'File': 'hello.c', 'Size': 100, 'Type': 'text'})\n",
    "    batch.put_item(Item={'Folder': '/home/taro/', 'File': 'cat1.jpg', 'Size': 200, 'Type': 'image'})\n",
    "    batch.put_item(Item={'Folder': '/home/taro/', 'File': 'cat2.jpg', 'Size': 300, 'Type': 'image'})\n",
    "    batch.put_item(Item={'Folder': '/home/taro/', 'File': 'dog.jpg', 'Size': 400, 'Type': 'image'})\n",
    "    batch.put_item(Item={'Folder': '/home/jiro/', 'File': 'Foo.java', 'Size': 100, 'Type': 'text'})\n",
    "    batch.put_item(Item={'Folder': '/home/jiro/', 'File': 'Bar.java', 'Size': 200, 'Type': 'text'})\n",
    "    batch.put_item(Item={'Folder': '/home/jiro/', 'File': 'Baz.java', 'Size': 300, 'Type': 'text'})\n",
    "    "
   ]
  },
  {
   "cell_type": "code",
   "execution_count": null,
   "metadata": {},
   "outputs": [],
   "source": [
    "# 書き込まれた項目を取り出して確認。\n",
    "# scanは、すべての項目を無条件で取り出す。RCUを大量消費するので注意。\n",
    "files.scan()['Items']"
   ]
  },
  {
   "cell_type": "code",
   "execution_count": null,
   "metadata": {},
   "outputs": [],
   "source": [
    "# フォルダ「/home/taro」のファイルをすべて取り出す\n",
    "files.query(\n",
    "    KeyConditionExpression='#Folder = :Folder', # キー条件式\n",
    "    ExpressionAttributeNames={'#Folder': 'Folder'}, # 式の属性名\n",
    "    ExpressionAttributeValues={':Folder': '/home/taro/'} # 式の属性値\n",
    ")['Items']"
   ]
  },
  {
   "cell_type": "code",
   "execution_count": null,
   "metadata": {},
   "outputs": [],
   "source": [
    "# フォルダ「/home/taro」の、\n",
    "# ファイル名が「hello.c」であるものを検索\n",
    "files.query(\n",
    "    KeyConditionExpression='#Folder = :Folder and #File = :File', # キー条件式\n",
    "    ExpressionAttributeNames={'#Folder': 'Folder', '#File': 'File'}, # 式の属性名\n",
    "    ExpressionAttributeValues={':Folder': '/home/taro/', ':File': 'hello.c'} # 式の属性値\n",
    ")['Items']"
   ]
  },
  {
   "cell_type": "code",
   "execution_count": null,
   "metadata": {},
   "outputs": [],
   "source": [
    "# セカンダリインデックス(LSI)の利用例。\n",
    "# フォルダ「/home/taro」のファイルを\n",
    "# サイズの小さい順に表示。\n",
    "files.query(\n",
    "    IndexName='FilesOrderBySize', # 使用するインデックスの指定\n",
    "    KeyConditionExpression='#Folder = :Folder', # キー条件式\n",
    "    ExpressionAttributeNames={'#Folder': 'Folder'}, # 式の属性名\n",
    "    ExpressionAttributeValues={':Folder': '/home/taro/'} # 式の属性値\n",
    ")['Items']"
   ]
  },
  {
   "cell_type": "code",
   "execution_count": null,
   "metadata": {},
   "outputs": [],
   "source": [
    "# セカンダリインデックス(LSI)の利用例。\n",
    "# フォルダ「/home/taro」のファイルを\n",
    "# サイズの大きい順に表示。\n",
    "files.query(\n",
    "    IndexName='FilesOrderBySize', # 使用するインデックスの指定\n",
    "    ScanIndexForward=False, # 逆順の指定\n",
    "    KeyConditionExpression='#Folder = :Folder', # キー条件式\n",
    "    ExpressionAttributeNames={'#Folder': 'Folder'}, # 式の属性名\n",
    "    ExpressionAttributeValues={':Folder': '/home/taro/'} # 式の属性値\n",
    ")['Items']"
   ]
  },
  {
   "cell_type": "code",
   "execution_count": null,
   "metadata": {},
   "outputs": [],
   "source": [
    "# セカンダリインデックス(LSI)の利用例。\n",
    "# フォルダ「/home/taro」の、\n",
    "# サイズが200以上300以下であるファイルを検索\n",
    "files.query(\n",
    "    IndexName='FilesOrderBySize', # 使用するインデックスの指定\n",
    "    KeyConditionExpression='#Folder = :Folder AND (#Size BETWEEN :MinSize AND :MaxSize)', # キー条件式\n",
    "    ExpressionAttributeNames={'#Folder': 'Folder', '#Size': 'Size'}, # 式の属性名\n",
    "    ExpressionAttributeValues={':Folder': '/home/taro/', ':MinSize': 200, ':MaxSize': 300} # 式の属性値\n",
    ")['Items']"
   ]
  },
  {
   "cell_type": "code",
   "execution_count": null,
   "metadata": {},
   "outputs": [],
   "source": [
    "# セカンダリインデックス(LSI)の利用例。\n",
    "# フォルダ「/home/taro」のファイルを、\n",
    "# Type順に並び替えて出力\n",
    "files.query(\n",
    "    IndexName='FilesOrderByType', # 使用するインデックスの指定\n",
    "    KeyConditionExpression='#Folder = :Folder', # キー条件式\n",
    "    ExpressionAttributeNames={'#Folder': 'Folder'}, # 式の属性名\n",
    "    ExpressionAttributeValues={':Folder': '/home/taro/'} # 式の属性値\n",
    ")['Items']"
   ]
  },
  {
   "cell_type": "code",
   "execution_count": null,
   "metadata": {},
   "outputs": [],
   "source": [
    "# セカンダリインデックス(LSI)の利用例。\n",
    "# フォルダ「/home/taro」のファイルで、\n",
    "# Typeが「image」であるものを検索\n",
    "files.query(\n",
    "    IndexName='FilesOrderByType', # 使用するインデックスの指定\n",
    "    KeyConditionExpression='#Folder = :Folder AND #Type = :Type', # キー条件式\n",
    "    ExpressionAttributeNames={'#Folder': 'Folder', '#Type': 'Type'}, # 式の属性名\n",
    "    ExpressionAttributeValues={':Folder': '/home/taro/', ':Type': 'image'} # 式の属性値\n",
    ")['Items']"
   ]
  },
  {
   "cell_type": "code",
   "execution_count": null,
   "metadata": {},
   "outputs": [],
   "source": [
    "# セカンダリインデックス(GSI)の利用例。\n",
    "# 全項目から、Typeが「image」であるものを検索\n",
    "files.query(\n",
    "    IndexName='FileTypes', # 使用するインデックスの指定\n",
    "    KeyConditionExpression='#Type = :Type', # キー条件式\n",
    "    ExpressionAttributeNames={'#Type': 'Type'}, # 式の属性名\n",
    "    ExpressionAttributeValues={':Type': 'text'} # 式の属性値\n",
    ")['Items']"
   ]
  },
  {
   "cell_type": "code",
   "execution_count": null,
   "metadata": {},
   "outputs": [],
   "source": []
  }
 ],
 "metadata": {
  "kernelspec": {
   "display_name": "Python 3",
   "language": "python",
   "name": "python3"
  },
  "language_info": {
   "codemirror_mode": {
    "name": "ipython",
    "version": 3
   },
   "file_extension": ".py",
   "mimetype": "text/x-python",
   "name": "python",
   "nbconvert_exporter": "python",
   "pygments_lexer": "ipython3",
   "version": "3.6.6"
  }
 },
 "nbformat": 4,
 "nbformat_minor": 2
}
