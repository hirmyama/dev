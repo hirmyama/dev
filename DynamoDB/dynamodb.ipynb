{
 "cells": [
  {
   "cell_type": "code",
   "execution_count": null,
   "metadata": {},
   "outputs": [],
   "source": [
    "# テーブルを作成\n",
    "import boto3\n",
    "dynamodb = boto3.resource('dynamodb')\n",
    "\n",
    "dynamodb.create_table(\n",
    "    TableName='Users', # テーブル名\n",
    "    KeySchema=[{'AttributeName': 'UserId', 'KeyType': 'HASH'}], # 主キーの設定。HASHは「パーティションキー」を、RANGEは「ソートキー」を表す。\n",
    "    AttributeDefinitions=[{'AttributeName': 'UserId', 'AttributeType': 'N'}], # 主キーのデータ型の指定。「N」はNumberを表す。\n",
    "    ProvisionedThroughput={'ReadCapacityUnits': 10, 'WriteCapacityUnits': 10} # スループットの指定。\n",
    ")"
   ]
  },
  {
   "cell_type": "code",
   "execution_count": null,
   "metadata": {},
   "outputs": [],
   "source": [
    "#テーブルを削除\n",
    "import boto3\n",
    "dynamodb = boto3.resource('dynamodb')\n",
    "\n",
    "dynamodb.Table('Users').delete()"
   ]
  },
  {
   "cell_type": "code",
   "execution_count": null,
   "metadata": {},
   "outputs": [],
   "source": [
    "# すべてのテーブルを取得\n",
    "import boto3\n",
    "dynamodb = boto3.resource('dynamodb')\n",
    "\n",
    "list(dynamodb.tables.all())"
   ]
  },
  {
   "cell_type": "code",
   "execution_count": null,
   "metadata": {},
   "outputs": [],
   "source": [
    "# テーブルに項目を追加(put)\n",
    "import boto3\n",
    "dynamodb = boto3.resource('dynamodb')\n",
    "\n",
    "users = dynamodb.Table('Users')\n",
    "users.put_item(Item={'UserId': 1, 'Name': 'taro'}) # 項目の書き込み。"
   ]
  },
  {
   "cell_type": "code",
   "execution_count": null,
   "metadata": {},
   "outputs": [],
   "source": [
    "# テーブルから項目を取得(get)\n",
    "import boto3\n",
    "dynamodb = boto3.resource('dynamodb')\n",
    "\n",
    "users = dynamodb.Table('Users')\n",
    "users.get_item(Key={'UserId': 1})\n"
   ]
  },
  {
   "cell_type": "code",
   "execution_count": null,
   "metadata": {},
   "outputs": [],
   "source": [
    "# テーブルから項目を削除\n",
    "import boto3\n",
    "dynamodb = boto3.resource('dynamodb')\n",
    "\n",
    "users = dynamodb.Table('Users')\n",
    "users.delete_item(Key={'UserId': 1})"
   ]
  },
  {
   "cell_type": "code",
   "execution_count": null,
   "metadata": {},
   "outputs": [],
   "source": [
    "# テーブルに複数の項目をまとめて書き込む\n",
    "\n",
    "import boto3\n",
    "dynamodb = boto3.resource('dynamodb')\n",
    "\n",
    "dynamodb.batch_write_item(RequestItems={\n",
    "    'Users': [\n",
    "        {'PutRequest': {\n",
    "            'Item': {'UserId': 2, 'Name': 'jiro'}\n",
    "        }},\n",
    "        {'PutRequest': {\n",
    "            'Item': {'UserId': 3, 'Name': 'saburo'}\n",
    "        }},\n",
    "        {'PutRequest': {\n",
    "            'Item': {'UserId': 4, 'Name': 'shiro'}\n",
    "        }},\n",
    "    ]\n",
    "})"
   ]
  },
  {
   "cell_type": "code",
   "execution_count": null,
   "metadata": {},
   "outputs": [],
   "source": [
    "# クエリ\n",
    "\n",
    "import boto3\n",
    "dynamodb = boto3.resource('dynamodb')\n",
    "\n",
    "dynamodb.Table('Users').query(\n",
    "    KeyConditionExpression='#UserId = :UserId',\n",
    "    ExpressionAttributeNames={'#UserId': 'UserId'}, \n",
    "    ExpressionAttributeValues={':UserId': 1})"
   ]
  },
  {
   "cell_type": "code",
   "execution_count": null,
   "metadata": {},
   "outputs": [],
   "source": [
    "# スキャン\n",
    "\n",
    "import boto3\n",
    "dynamodb = boto3.resource('dynamodb')\n",
    "\n",
    "dynamodb.Table('Users').scan()"
   ]
  },
  {
   "cell_type": "code",
   "execution_count": null,
   "metadata": {},
   "outputs": [],
   "source": [
    "# 既存の項目に属性を追加\n",
    "\n",
    "import boto3\n",
    "dynamodb = boto3.resource('dynamodb')\n",
    "\n",
    "dynamodb.Table('Users').update_item(\n",
    "    Key={'UserId': 1},\n",
    "    UpdateExpression='set Age=:age',\n",
    "    ExpressionAttributeValues={\n",
    "        ':age': 20\n",
    "    }\n",
    ")"
   ]
  },
  {
   "cell_type": "code",
   "execution_count": null,
   "metadata": {},
   "outputs": [],
   "source": [
    "# 属性の値をインクリメント/デクリメント\n",
    "\n",
    "import boto3\n",
    "dynamodb = boto3.resource('dynamodb')\n",
    "\n",
    "dynamodb.Table('Users').update_item(\n",
    "    Key={'UserId': 1},\n",
    "    UpdateExpression='set Age=Age + :add',\n",
    "    ExpressionAttributeValues={\n",
    "        ':add': 1\n",
    "    }\n",
    ")"
   ]
  },
  {
   "cell_type": "code",
   "execution_count": null,
   "metadata": {},
   "outputs": [],
   "source": []
  }
 ],
 "metadata": {
  "kernelspec": {
   "display_name": "Python 3",
   "language": "python",
   "name": "python3"
  },
  "language_info": {
   "codemirror_mode": {
    "name": "ipython",
    "version": 3
   },
   "file_extension": ".py",
   "mimetype": "text/x-python",
   "name": "python",
   "nbconvert_exporter": "python",
   "pygments_lexer": "ipython3",
   "version": "3.7.0"
  }
 },
 "nbformat": 4,
 "nbformat_minor": 2
}
