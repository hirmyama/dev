{
 "cells": [
  {
   "cell_type": "code",
   "execution_count": 355,
   "metadata": {},
   "outputs": [],
   "source": [
    "import boto3"
   ]
  },
  {
   "cell_type": "code",
   "execution_count": 356,
   "metadata": {},
   "outputs": [],
   "source": [
    "dynamodb = boto3.resource('dynamodb')"
   ]
  },
  {
   "cell_type": "code",
   "execution_count": 357,
   "metadata": {},
   "outputs": [
    {
     "data": {
      "text/plain": [
       "dynamodb.Table(name='Users')"
      ]
     },
     "execution_count": 357,
     "metadata": {},
     "output_type": "execute_result"
    }
   ],
   "source": [
    "# テーブル「Users」を作成する\n",
    "\n",
    "dynamodb.create_table(\n",
    "    TableName='Users', # テーブル名\n",
    "    KeySchema=[\n",
    "        {'AttributeName': 'UserId', 'KeyType': 'HASH'} # 'HASH': パーティションキー\n",
    "    ],\n",
    "    AttributeDefinitions=[\n",
    "        {'AttributeName': 'UserId', 'AttributeType': 'S'} # 'S': 文字列型\n",
    "    ],\n",
    "    ProvisionedThroughput={\n",
    "        'ReadCapacityUnits': 10, # 1秒あたりの読み込み回数\n",
    "        'WriteCapacityUnits': 10 # 1秒あたりの書き込み回数\n",
    "    }\n",
    ")"
   ]
  },
  {
   "cell_type": "code",
   "execution_count": 360,
   "metadata": {},
   "outputs": [
    {
     "data": {
      "text/plain": [
       "'ACTIVE'"
      ]
     },
     "execution_count": 360,
     "metadata": {},
     "output_type": "execute_result"
    }
   ],
   "source": [
    "# 作成直後は「CREATING」となる。\n",
    "# このセルをCtrl+Enterで何度か実行し、「ACTIVE」になるまで待ってください。\n",
    "dynamodb.Table(name='Users').table_status"
   ]
  },
  {
   "cell_type": "code",
   "execution_count": 358,
   "metadata": {},
   "outputs": [],
   "source": [
    "# テーブルを取得\n",
    "table = dynamodb.Table(name='Users')"
   ]
  },
  {
   "cell_type": "code",
   "execution_count": 361,
   "metadata": {},
   "outputs": [
    {
     "data": {
      "text/plain": [
       "dynamodb.Table(name='Users')"
      ]
     },
     "execution_count": 361,
     "metadata": {},
     "output_type": "execute_result"
    }
   ],
   "source": [
    "table"
   ]
  },
  {
   "cell_type": "code",
   "execution_count": 362,
   "metadata": {},
   "outputs": [
    {
     "data": {
      "text/plain": [
       "{'ResponseMetadata': {'RequestId': 'N7VR0910TFCJUUM8HT9SJ78593VV4KQNSO5AEMVJF66Q9ASUAAJG',\n",
       "  'HTTPStatusCode': 200,\n",
       "  'HTTPHeaders': {'server': 'Server',\n",
       "   'date': 'Wed, 19 Dec 2018 22:01:53 GMT',\n",
       "   'content-type': 'application/x-amz-json-1.0',\n",
       "   'content-length': '2',\n",
       "   'connection': 'keep-alive',\n",
       "   'x-amzn-requestid': 'N7VR0910TFCJUUM8HT9SJ78593VV4KQNSO5AEMVJF66Q9ASUAAJG',\n",
       "   'x-amz-crc32': '2745614147'},\n",
       "  'RetryAttempts': 0}}"
      ]
     },
     "execution_count": 362,
     "metadata": {},
     "output_type": "execute_result"
    }
   ],
   "source": [
    "# put_itemで、項目を作成する\n",
    "\n",
    "table.put_item(\n",
    "    Item={\n",
    "        'UserId': 'Yamada',\n",
    "        'Password': 'pass1'\n",
    "    }\n",
    ")"
   ]
  },
  {
   "cell_type": "code",
   "execution_count": 363,
   "metadata": {},
   "outputs": [
    {
     "data": {
      "text/plain": [
       "{'Item': {'Password': 'pass1', 'UserId': 'Yamada'},\n",
       " 'ResponseMetadata': {'RequestId': 'O03H9OJ08QOOUTTM7T3AC8DFJNVV4KQNSO5AEMVJF66Q9ASUAAJG',\n",
       "  'HTTPStatusCode': 200,\n",
       "  'HTTPHeaders': {'server': 'Server',\n",
       "   'date': 'Wed, 19 Dec 2018 22:01:56 GMT',\n",
       "   'content-type': 'application/x-amz-json-1.0',\n",
       "   'content-length': '59',\n",
       "   'connection': 'keep-alive',\n",
       "   'x-amzn-requestid': 'O03H9OJ08QOOUTTM7T3AC8DFJNVV4KQNSO5AEMVJF66Q9ASUAAJG',\n",
       "   'x-amz-crc32': '3004546007'},\n",
       "  'RetryAttempts': 0}}"
      ]
     },
     "execution_count": 363,
     "metadata": {},
     "output_type": "execute_result"
    }
   ],
   "source": [
    "# get_itemで、項目を取得する\n",
    "\n",
    "table.get_item(\n",
    "    Key={'UserId': 'Yamada'}\n",
    ")"
   ]
  },
  {
   "cell_type": "code",
   "execution_count": 364,
   "metadata": {},
   "outputs": [
    {
     "data": {
      "text/plain": [
       "{'Password': 'pass1', 'UserId': 'Yamada'}"
      ]
     },
     "execution_count": 364,
     "metadata": {},
     "output_type": "execute_result"
    }
   ],
   "source": [
    "# get_itemは、Item（項目そのものの情報）と\n",
    "# ResponseMetadata（APIのレスポンス情報）を返す。\n",
    "# Itemだけ取得するには以下のようにすればよい\n",
    "\n",
    "table.get_item(\n",
    "    Key={'UserId': 'Yamada'}\n",
    ")['Item']"
   ]
  },
  {
   "cell_type": "code",
   "execution_count": 365,
   "metadata": {},
   "outputs": [
    {
     "data": {
      "text/plain": [
       "{'ResponseMetadata': {'RequestId': 'BCH76H7A11DC5PJ0HH8E909A6FVV4KQNSO5AEMVJF66Q9ASUAAJG',\n",
       "  'HTTPStatusCode': 200,\n",
       "  'HTTPHeaders': {'server': 'Server',\n",
       "   'date': 'Wed, 19 Dec 2018 22:02:01 GMT',\n",
       "   'content-type': 'application/x-amz-json-1.0',\n",
       "   'content-length': '2',\n",
       "   'connection': 'keep-alive',\n",
       "   'x-amzn-requestid': 'BCH76H7A11DC5PJ0HH8E909A6FVV4KQNSO5AEMVJF66Q9ASUAAJG',\n",
       "   'x-amz-crc32': '2745614147'},\n",
       "  'RetryAttempts': 0}}"
      ]
     },
     "execution_count": 365,
     "metadata": {},
     "output_type": "execute_result"
    }
   ],
   "source": [
    "# もう一度同じキー（パーティションキー）でput_itemすると、\n",
    "# 項目全体が、新しい項目で上書きされる。\n",
    "\n",
    "table.put_item(\n",
    "    Item={\n",
    "        'UserId': 'Yamada',\n",
    "        'Name': 'Yamada Taro'\n",
    "    }\n",
    ")"
   ]
  },
  {
   "cell_type": "code",
   "execution_count": 366,
   "metadata": {},
   "outputs": [
    {
     "data": {
      "text/plain": [
       "{'UserId': 'Yamada', 'Name': 'Yamada Taro'}"
      ]
     },
     "execution_count": 366,
     "metadata": {},
     "output_type": "execute_result"
    }
   ],
   "source": [
    "# get_itemで取り出して確認。\n",
    "# 項目全体が、新しい項目で上書きされたため、Passwordがなくなっているところに注目。\n",
    "\n",
    "table.get_item(\n",
    "    Key={'UserId': 'Yamada'}\n",
    ")['Item']"
   ]
  },
  {
   "cell_type": "code",
   "execution_count": 367,
   "metadata": {},
   "outputs": [
    {
     "data": {
      "text/plain": [
       "{'Password': 'pass1', 'UserId': 'Yamada', 'Name': 'Yamada Taro'}"
      ]
     },
     "execution_count": 367,
     "metadata": {},
     "output_type": "execute_result"
    }
   ],
   "source": [
    "# 既存の項目を残したまま、項目に新しい属性をセットする（追加する）には、\n",
    "# put_itemではなくupdate_itemを使う。\n",
    "\n",
    "table.update_item(\n",
    "    Key={'UserId': 'Yamada'},\n",
    "    UpdateExpression='SET Password = :Password', # 更新式\n",
    "    ExpressionAttributeValues={ # 式の属性値\n",
    "        ':Password': 'pass1'\n",
    "    }\n",
    ")\n",
    "\n",
    "# get_itemで取り出して確認\n",
    "table.get_item(\n",
    "    Key={'UserId': 'Yamada'}\n",
    ")['Item']"
   ]
  },
  {
   "cell_type": "code",
   "execution_count": 368,
   "metadata": {},
   "outputs": [
    {
     "data": {
      "text/plain": [
       "'e6c3da5b206634d7f3f3586d747ffdb36b5c675757b380c6a5fe5c570c714349'"
      ]
     },
     "execution_count": 368,
     "metadata": {},
     "output_type": "execute_result"
    }
   ],
   "source": [
    "# なお実際のシステムで、パスワードをDB保存する際は\n",
    "# 生パスワードではなく、SHA256ハッシュ値などを計算してそれを保存すべき。\n",
    "\n",
    "import hashlib\n",
    "password = 'pass1'\n",
    "hashlib.sha256(password.encode()).hexdigest()"
   ]
  },
  {
   "cell_type": "code",
   "execution_count": 369,
   "metadata": {},
   "outputs": [
    {
     "data": {
      "text/plain": [
       "{'UserId': 'Yamada',\n",
       " 'Password': 'pass1',\n",
       " 'Age': Decimal('22'),\n",
       " 'Name': 'Yamada Taro'}"
      ]
     },
     "execution_count": 369,
     "metadata": {},
     "output_type": "execute_result"
    }
   ],
   "source": [
    "# Age（年齢）を追加してみる\n",
    "\n",
    "table.update_item(\n",
    "    Key={'UserId': 'Yamada'},\n",
    "    UpdateExpression='SET Age = :Age',\n",
    "    ExpressionAttributeValues={\n",
    "        ':Age': 22\n",
    "    }\n",
    ")\n",
    "\n",
    "# get_itemで取り出して確認. \n",
    "# Ageは 22ではなく Decimal('22') として出てくる。\n",
    "\n",
    "table.get_item(\n",
    "    Key={'UserId': 'Yamada'}\n",
    ")['Item']"
   ]
  },
  {
   "cell_type": "code",
   "execution_count": 370,
   "metadata": {},
   "outputs": [
    {
     "data": {
      "text/plain": [
       "Decimal('22')"
      ]
     },
     "execution_count": 370,
     "metadata": {},
     "output_type": "execute_result"
    }
   ],
   "source": [
    "# Decimalは、Pythonのクラスの一種。decimalモジュールで定義されている。\n",
    "# Decimalは「十進浮動小数点」であり、通常の浮動小数点数よりも正確に数を扱えるのが特徴。\n",
    "# Decimalについて詳しくは以下を参照。\n",
    "# https://docs.python.jp/3/library/decimal.html\n",
    "\n",
    "from decimal import *\n",
    "Decimal('22')"
   ]
  },
  {
   "cell_type": "code",
   "execution_count": 371,
   "metadata": {},
   "outputs": [
    {
     "data": {
      "text/plain": [
       "22"
      ]
     },
     "execution_count": 371,
     "metadata": {},
     "output_type": "execute_result"
    }
   ],
   "source": [
    "# Decimalを普通の整数にするにはint()を使う\n",
    "int(Decimal('22'))"
   ]
  },
  {
   "cell_type": "code",
   "execution_count": 372,
   "metadata": {},
   "outputs": [
    {
     "data": {
      "text/plain": [
       "22"
      ]
     },
     "execution_count": 372,
     "metadata": {},
     "output_type": "execute_result"
    }
   ],
   "source": [
    "# 小数点以下は切り捨てることができる\n",
    "int(Decimal('22.49'))"
   ]
  },
  {
   "cell_type": "code",
   "execution_count": 373,
   "metadata": {},
   "outputs": [
    {
     "data": {
      "text/plain": [
       "22.22"
      ]
     },
     "execution_count": 373,
     "metadata": {},
     "output_type": "execute_result"
    }
   ],
   "source": [
    "# Decimalを「浮動小数点数」(float型)にするにはfloat()を使う\n",
    "float(Decimal('22.22'))"
   ]
  },
  {
   "cell_type": "code",
   "execution_count": 374,
   "metadata": {},
   "outputs": [
    {
     "data": {
      "text/plain": [
       "{'UserId': 'Yamada',\n",
       " 'Height': Decimal('165.5'),\n",
       " 'Password': 'pass1',\n",
       " 'Age': Decimal('22'),\n",
       " 'Name': 'Yamada Taro'}"
      ]
     },
     "execution_count": 374,
     "metadata": {},
     "output_type": "execute_result"
    }
   ],
   "source": [
    "# 特に、浮動小数点数（小数点付きの数）をDynamoDBに指定する場合は\n",
    "# 明示的にDecimal()を使わなければいけない点に注意。\n",
    "\n",
    "table.update_item(\n",
    "    Key={'UserId': 'Yamada'},\n",
    "    UpdateExpression='SET Height = :Height',\n",
    "    ExpressionAttributeValues={\n",
    "        ':Height': Decimal('165.5') # 165.5ではなくDecimal('165.5')とする必要がある\n",
    "    }\n",
    ")\n",
    "\n",
    "# get_itemで取り出して確認. \n",
    "\n",
    "table.get_item(\n",
    "    Key={'UserId': 'Yamada'}\n",
    ")['Item']"
   ]
  },
  {
   "cell_type": "code",
   "execution_count": 375,
   "metadata": {},
   "outputs": [
    {
     "data": {
      "text/plain": [
       "{'Height': Decimal('165.5')}"
      ]
     },
     "execution_count": 375,
     "metadata": {},
     "output_type": "execute_result"
    }
   ],
   "source": [
    "# get_itemで、ProjectionExpressionを使用すると、\n",
    "# 指定した属性だけを取り出すことができる\n",
    "# これを「射影」という。\n",
    "\n",
    "table.get_item(\n",
    "    Key={'UserId': 'Yamada'},\n",
    "    ProjectionExpression='Height'\n",
    ")['Item']"
   ]
  },
  {
   "cell_type": "code",
   "execution_count": 376,
   "metadata": {},
   "outputs": [
    {
     "data": {
      "text/plain": [
       "{'Age': Decimal('22'), 'Height': Decimal('165.5')}"
      ]
     },
     "execution_count": 376,
     "metadata": {},
     "output_type": "execute_result"
    }
   ],
   "source": [
    "# 「射影」 (ProjectionExpression) では,\n",
    "# カンマ区切りで複数の属性を指定することができる\n",
    "\n",
    "table.get_item(\n",
    "    Key={'UserId': 'Yamada'},\n",
    "    ProjectionExpression='Height,Age'\n",
    ")['Item']"
   ]
  },
  {
   "cell_type": "code",
   "execution_count": 377,
   "metadata": {},
   "outputs": [
    {
     "data": {
      "text/plain": [
       "{'UserId': 'Yamada',\n",
       " 'Password': 'pass1',\n",
       " 'Age': Decimal('22'),\n",
       " 'Name': 'Yamada Taro'}"
      ]
     },
     "execution_count": 377,
     "metadata": {},
     "output_type": "execute_result"
    }
   ],
   "source": [
    "# Height（身長）を削除\n",
    "\n",
    "table.update_item(\n",
    "    Key={'UserId': 'Yamada'},\n",
    "    UpdateExpression='REMOVE Height',\n",
    ")\n",
    "\n",
    "# get_itemで取り出して確認. \n",
    "\n",
    "table.get_item(\n",
    "    Key={'UserId': 'Yamada'}\n",
    ")['Item']"
   ]
  },
  {
   "cell_type": "code",
   "execution_count": null,
   "metadata": {},
   "outputs": [],
   "source": [
    "# Age（年齢）を1増やす\n",
    "\n",
    "table.update_item(\n",
    "    Key={'UserId': 'Yamada'},\n",
    "    UpdateExpression='ADD Age :Age',\n",
    "    ExpressionAttributeValues={\n",
    "        ':Age': 1\n",
    "    }\n",
    ")\n",
    "\n",
    "# get_itemで取り出して確認. \n",
    "\n",
    "table.get_item(\n",
    "    Key={'UserId': 'Yamada'}\n",
    ")['Item']"
   ]
  },
  {
   "cell_type": "code",
   "execution_count": null,
   "metadata": {},
   "outputs": [],
   "source": [
    "# Age（年齢）を1減らす(!?)\n",
    "\n",
    "table.update_item(\n",
    "    Key={'UserId': 'Yamada'},\n",
    "    UpdateExpression='ADD Age :Age',\n",
    "    ExpressionAttributeValues={\n",
    "        ':Age': -1 # 数を減らすには負の数をADDすればよい\n",
    "    }\n",
    ")\n",
    "\n",
    "# get_itemで取り出して確認. \n",
    "\n",
    "table.get_item(\n",
    "    Key={'UserId': 'Yamada'}\n",
    ")['Item']"
   ]
  },
  {
   "cell_type": "code",
   "execution_count": null,
   "metadata": {},
   "outputs": [],
   "source": [
    "# Age（年齢）を1減らす(!?)\n",
    "\n",
    "table.update_item(\n",
    "    Key={'UserId': 'Yamada'},\n",
    "    UpdateExpression='ADD FavoritePets :Pets',\n",
    "    ExpressionAttributeValues={\n",
    "        ':Pets': set(['Dog'])\n",
    "    }\n",
    ")\n",
    "\n",
    "# get_itemで取り出して確認. \n",
    "\n",
    "table.get_item(\n",
    "    Key={'UserId': 'Yamada'}\n",
    ")['Item']"
   ]
  },
  {
   "cell_type": "code",
   "execution_count": null,
   "metadata": {},
   "outputs": [],
   "source": [
    "# 「好きなペットの種類」リストを作成し、Dogを入れる。\n",
    "\n",
    "table.update_item(\n",
    "    Key={'UserId': 'Yamada'},\n",
    "    UpdateExpression='SET FavoritePets = :Pets',\n",
    "    ExpressionAttributeValues={\n",
    "        ':Pets': ['dog']\n",
    "    }\n",
    ")\n",
    "\n",
    "# get_itemで取り出して確認. \n",
    "\n",
    "table.get_item(\n",
    "    Key={'UserId': 'Yamada'}\n",
    ")['Item']"
   ]
  },
  {
   "cell_type": "code",
   "execution_count": null,
   "metadata": {},
   "outputs": [],
   "source": [
    "# 「好きなペットの種類」の末尾にCatを追加\n",
    "\n",
    "table.update_item(\n",
    "    Key={'UserId': 'Yamada'},\n",
    "    UpdateExpression='SET FavoritePets = list_append(FavoritePets, :Pets)',\n",
    "    ExpressionAttributeValues={\n",
    "        ':Pets': ['cat']\n",
    "    }\n",
    ")\n",
    "\n",
    "# get_itemで取り出して確認. \n",
    "\n",
    "table.get_item(\n",
    "    Key={'UserId': 'Yamada'}\n",
    ")['Item']"
   ]
  },
  {
   "cell_type": "code",
   "execution_count": null,
   "metadata": {},
   "outputs": [],
   "source": [
    "# 「好きなペットの種類」の先頭にハムスターを追加\n",
    "\n",
    "table.update_item(\n",
    "    Key={'UserId': 'Yamada'},\n",
    "    UpdateExpression='SET FavoritePets = list_append(:Pets, FavoritePets)',\n",
    "    ExpressionAttributeValues={\n",
    "        ':Pets': ['hamster']\n",
    "    }\n",
    ")\n",
    "\n",
    "# get_itemで取り出して確認. \n",
    "\n",
    "table.get_item(\n",
    "    Key={'UserId': 'Yamada'}\n",
    ")['Item']"
   ]
  },
  {
   "cell_type": "code",
   "execution_count": null,
   "metadata": {},
   "outputs": [],
   "source": [
    "# 「好きなペットの種類」の1番目（Dog）をRabbitに変更\n",
    "# 配列は0からカウントする\n",
    "\n",
    "table.update_item(\n",
    "    Key={'UserId': 'Yamada'},\n",
    "    UpdateExpression='SET FavoritePets[1] = :Pet',\n",
    "    ExpressionAttributeValues={\n",
    "        ':Pet': 'rabbit'\n",
    "    }\n",
    ")\n",
    "\n",
    "# get_itemで取り出して確認. \n",
    "\n",
    "table.get_item(\n",
    "    Key={'UserId': 'Yamada'}\n",
    ")['Item']"
   ]
  },
  {
   "cell_type": "code",
   "execution_count": null,
   "metadata": {},
   "outputs": [],
   "source": [
    "# 「好きなペットの種類」の1番目（Rabbit）を削除\n",
    "# 配列は0からカウントする\n",
    "\n",
    "table.update_item(\n",
    "    Key={'UserId': 'Yamada'},\n",
    "    UpdateExpression='REMOVE FavoritePets[1]',\n",
    ")\n",
    "\n",
    "# get_itemで取り出して確認. \n",
    "\n",
    "table.get_item(\n",
    "    Key={'UserId': 'Yamada'}\n",
    ")['Item']"
   ]
  },
  {
   "cell_type": "code",
   "execution_count": null,
   "metadata": {},
   "outputs": [],
   "source": [
    "# まずPythonでのset（集合）の使い方を確認。\n",
    "# 文字列を指定すると、文字単位に分割される。\n",
    "# かつ、「o」はまとめられて1つになる（重複不可）\n",
    "set('facebook')"
   ]
  },
  {
   "cell_type": "code",
   "execution_count": null,
   "metadata": {},
   "outputs": [],
   "source": [
    "# 文字単位に分解されないようにするためには、引数をリスト [ ... ] にする\n",
    "set(['facebook'])"
   ]
  },
  {
   "cell_type": "code",
   "execution_count": null,
   "metadata": {},
   "outputs": [],
   "source": [
    "# たくさんの要素を一度に指定できる\n",
    "set(['facebook', 'twitter', 'instagram', 'snow', 'tiktok'])"
   ]
  },
  {
   "cell_type": "code",
   "execution_count": null,
   "metadata": {},
   "outputs": [],
   "source": [
    "# 「使用中のアプリ」を「セット」として記録する\n",
    "# セット（集合）は、リスト（配列）とは異なり、順番を持たない。要素は重複できない。\n",
    "\n",
    "table.update_item(\n",
    "    Key={'UserId': 'Yamada'},\n",
    "    UpdateExpression='SET Apps = :Apps',\n",
    "    ExpressionAttributeValues={\n",
    "        ':Apps': set(['facebook'])\n",
    "    }\n",
    ")\n",
    "\n",
    "# get_itemで取り出して確認. \n",
    "\n",
    "table.get_item(\n",
    "    Key={'UserId': 'Yamada'}\n",
    ")['Item']"
   ]
  },
  {
   "cell_type": "code",
   "execution_count": null,
   "metadata": {},
   "outputs": [],
   "source": [
    "# セットに要素を追加する\n",
    "\n",
    "table.update_item(\n",
    "    Key={'UserId': 'Yamada'},\n",
    "    UpdateExpression='ADD Apps :Apps',\n",
    "    ExpressionAttributeValues={\n",
    "        ':Apps': set(['twitter', 'tiktok', 'snow', 'instagram'])\n",
    "    }\n",
    ")\n",
    "\n",
    "table.get_item(\n",
    "    Key={'UserId': 'Yamada'}\n",
    ")['Item']\n"
   ]
  },
  {
   "cell_type": "code",
   "execution_count": null,
   "metadata": {},
   "outputs": [],
   "source": [
    "# セットから要素を削除するにはDELETEを使う\n",
    "\n",
    "table.update_item(\n",
    "    Key={'UserId': 'Yamada'},\n",
    "    UpdateExpression='DELETE Apps :Apps',\n",
    "    ExpressionAttributeValues={\n",
    "        ':Apps': set(['facebook', 'twitter'])\n",
    "    }\n",
    ")\n",
    "\n",
    "table.get_item(\n",
    "    Key={'UserId': 'Yamada'}\n",
    ")['Item']\n"
   ]
  },
  {
   "cell_type": "code",
   "execution_count": null,
   "metadata": {},
   "outputs": [],
   "source": [
    "# 住所については「郵便番号」,\n",
    "# 「住所1(都道府県)」,「住所2(市区町村)」,「住所3(丁番・建物名・部屋番号)」\n",
    "# のように複数の項目に分かれるため、\n",
    "# マップ（ネストしたマップ）として記録する。\n",
    "\n",
    "# まずAddressに {} （空のマップ）を登録。\n",
    "\n",
    "table.update_item(\n",
    "    Key={'UserId': 'Yamada'},\n",
    "    UpdateExpression='SET Address = :Address',\n",
    "    ExpressionAttributeValues={\n",
    "        ':Address': {}\n",
    "    }\n",
    ")\n",
    "\n",
    "table.get_item(\n",
    "    Key={'UserId': 'Yamada'}\n",
    ")['Item']"
   ]
  },
  {
   "cell_type": "code",
   "execution_count": null,
   "metadata": {},
   "outputs": [],
   "source": [
    "# 住所の郵便番号 (Address.PostalCode)をセット\n",
    "\n",
    "table.update_item(\n",
    "    Key={'UserId': 'Yamada'},\n",
    "    UpdateExpression='SET Address.PostalCode = :PostalCode',\n",
    "    ExpressionAttributeValues={\n",
    "        ':PostalCode': '104-0061'\n",
    "    }\n",
    ")\n",
    "\n",
    "table.get_item(\n",
    "    Key={'UserId': 'Yamada'}\n",
    ")['Item']\n"
   ]
  },
  {
   "cell_type": "code",
   "execution_count": null,
   "metadata": {},
   "outputs": [],
   "source": [
    "# 住所1(Address.Address1), 住所2, 住所3を一度にセット\n",
    "table.update_item(\n",
    "    Key={'UserId': 'Yamada'},\n",
    "    UpdateExpression='''\n",
    "        SET Address.Address1 = :Address1,\n",
    "            Address.Address2 = :Address2,\n",
    "            Address.Address3 = :Address3\n",
    "    ''',\n",
    "    ExpressionAttributeValues={\n",
    "        ':Address1': '東京都',\n",
    "        ':Address2': '中央区銀座',\n",
    "        ':Address3': '1丁目1番1号 111号室',\n",
    "    }\n",
    ")\n",
    "\n",
    "table.get_item(\n",
    "    Key={'UserId': 'Yamada'}\n",
    ")['Item']\n"
   ]
  },
  {
   "cell_type": "code",
   "execution_count": null,
   "metadata": {},
   "outputs": [],
   "source": [
    "# 項目の削除\n",
    "table.delete_item(Key={'UserId': 'Yamada'})"
   ]
  },
  {
   "cell_type": "code",
   "execution_count": null,
   "metadata": {},
   "outputs": [],
   "source": [
    "# テーブルの削除\n",
    "table.delete()"
   ]
  },
  {
   "cell_type": "code",
   "execution_count": null,
   "metadata": {},
   "outputs": [],
   "source": [
    "# 削除直後は「DELETING」（削除中）となる。\n",
    "# 削除が完了すると、テーブルの情報取得処理自体が失敗してResourceNotFoundExceptionとなる。\n",
    "# このセルをCtrl+Enterで何度か実行し、「すでにテーブルは削除されています」と表示されるまで待ってください。\n",
    "try:\n",
    "    status = dynamodb.Table(name='Users').table_status\n",
    "    print(status)\n",
    "except dynamodb.meta.client.exceptions.ResourceNotFoundException as err:\n",
    "    print('すでにテーブルは削除されています')"
   ]
  },
  {
   "cell_type": "code",
   "execution_count": null,
   "metadata": {},
   "outputs": [],
   "source": [
    "# まとめ\n",
    "\n",
    "# dynamodb.create_table(...) テーブルの作成\n",
    "# table =  dynamodb.Table(...) テーブルオブジェクトの取得\n",
    "# table.put_item(...) テーブルに項目を追加/上書き\n",
    "# table.update_item(...) 項目の属性を追加/更新/削除\n",
    "# table.delete_item(...) 項目を削除\n",
    "# table.delete() テーブルの削除\n",
    "\n",
    "# 属性の値として、文字列、数値、リスト、セット、マップなどが使用できる。\n",
    "\n",
    "# 数値は増減できる\n",
    "# リストには順序がある\n",
    "# セットには順序がなく、要素の重複が許可されない\n",
    "# マップ（ネストしたマップ）は、1つの属性値の中に、複数のキー・値を持つ"
   ]
  }
 ],
 "metadata": {
  "kernelspec": {
   "display_name": "Python 3",
   "language": "python",
   "name": "python3"
  },
  "language_info": {
   "codemirror_mode": {
    "name": "ipython",
    "version": 3
   },
   "file_extension": ".py",
   "mimetype": "text/x-python",
   "name": "python",
   "nbconvert_exporter": "python",
   "pygments_lexer": "ipython3",
   "version": "3.6.6"
  }
 },
 "nbformat": 4,
 "nbformat_minor": 2
}
